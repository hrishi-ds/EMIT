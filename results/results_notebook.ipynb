{
 "cells": [
  {
   "cell_type": "code",
   "execution_count": 1,
   "metadata": {},
   "outputs": [],
   "source": [
    "import pickle\n",
    "import pandas as pd"
   ]
  },
  {
   "cell_type": "markdown",
   "metadata": {},
   "source": [
    "## Physionet 2012"
   ]
  },
  {
   "cell_type": "code",
   "execution_count": 2,
   "metadata": {},
   "outputs": [
    {
     "data": {
      "text/html": [
       "<div>\n",
       "<style scoped>\n",
       "    .dataframe tbody tr th:only-of-type {\n",
       "        vertical-align: middle;\n",
       "    }\n",
       "\n",
       "    .dataframe tbody tr th {\n",
       "        vertical-align: top;\n",
       "    }\n",
       "\n",
       "    .dataframe thead th {\n",
       "        text-align: right;\n",
       "    }\n",
       "</style>\n",
       "<table border=\"1\" class=\"dataframe\">\n",
       "  <thead>\n",
       "    <tr style=\"text-align: right;\">\n",
       "      <th></th>\n",
       "      <th>% Labelled Data</th>\n",
       "      <th>ROC-AUC (mean ± std)</th>\n",
       "      <th>PR-AUC (mean ± std)</th>\n",
       "      <th>min(Re,Pr) (mean ± std)</th>\n",
       "    </tr>\n",
       "  </thead>\n",
       "  <tbody>\n",
       "    <tr>\n",
       "      <th>0</th>\n",
       "      <td>10</td>\n",
       "      <td>0.800 ± 0.001</td>\n",
       "      <td>0.409 ± 0.025</td>\n",
       "      <td>0.429 ± 0.005</td>\n",
       "    </tr>\n",
       "    <tr>\n",
       "      <th>1</th>\n",
       "      <td>20</td>\n",
       "      <td>0.821 ± 0.004</td>\n",
       "      <td>0.460 ± 0.002</td>\n",
       "      <td>0.457 ± 0.011</td>\n",
       "    </tr>\n",
       "    <tr>\n",
       "      <th>2</th>\n",
       "      <td>30</td>\n",
       "      <td>0.812 ± 0.013</td>\n",
       "      <td>0.453 ± 0.034</td>\n",
       "      <td>0.457 ± 0.012</td>\n",
       "    </tr>\n",
       "    <tr>\n",
       "      <th>3</th>\n",
       "      <td>40</td>\n",
       "      <td>0.835 ± 0.001</td>\n",
       "      <td>0.484 ± 0.005</td>\n",
       "      <td>0.474 ± 0.005</td>\n",
       "    </tr>\n",
       "    <tr>\n",
       "      <th>4</th>\n",
       "      <td>50</td>\n",
       "      <td>0.846 ± 0.002</td>\n",
       "      <td>0.506 ± 0.015</td>\n",
       "      <td>0.486 ± 0.010</td>\n",
       "    </tr>\n",
       "  </tbody>\n",
       "</table>\n",
       "</div>"
      ],
      "text/plain": [
       "   % Labelled Data ROC-AUC (mean ± std) PR-AUC (mean ± std)  \\\n",
       "0               10        0.800 ± 0.001       0.409 ± 0.025   \n",
       "1               20        0.821 ± 0.004       0.460 ± 0.002   \n",
       "2               30        0.812 ± 0.013       0.453 ± 0.034   \n",
       "3               40        0.835 ± 0.001       0.484 ± 0.005   \n",
       "4               50        0.846 ± 0.002       0.506 ± 0.015   \n",
       "\n",
       "  min(Re,Pr) (mean ± std)  \n",
       "0           0.429 ± 0.005  \n",
       "1           0.457 ± 0.011  \n",
       "2           0.457 ± 0.012  \n",
       "3           0.474 ± 0.005  \n",
       "4           0.486 ± 0.010  "
      ]
     },
     "execution_count": 2,
     "metadata": {},
     "output_type": "execute_result"
    }
   ],
   "source": [
    "file_path='./PHYSIONET/EMIT_PHYSIONET_PT_lr_0.0005_err_coef_3_mask_threshold_0.01_insig_prob_0.7_FT_batchsize32_dropout0.4_lr5e-05_weight_decay0.0001.pkl'\n",
    "\n",
    "\n",
    "with open(file_path, 'rb') as f:\n",
    "    results_dict = pickle.load(f)\n",
    "\n",
    "df_physionet_results = pd.DataFrame({\n",
    "    '% Labelled Data': results_dict.keys(),\n",
    "    'ROC-AUC (mean ± std)': [f\"{mean:.3f} ± {std:.3f}\" for mean, std in [v[0] for v in results_dict.values()]],\n",
    "    'PR-AUC (mean ± std)': [f\"{mean:.3f} ± {std:.3f}\" for mean, std in [v[1] for v in results_dict.values()]],\n",
    "    'min(Re,Pr) (mean ± std)': [f\"{mean:.3f} ± {std:.3f}\" for mean, std in [v[2] for v in results_dict.values()]]\n",
    "})\n",
    "\n",
    "df_physionet_results\n"
   ]
  },
  {
   "cell_type": "markdown",
   "metadata": {},
   "source": [
    "## MIMIC III"
   ]
  },
  {
   "cell_type": "code",
   "execution_count": 3,
   "metadata": {},
   "outputs": [
    {
     "data": {
      "text/html": [
       "<div>\n",
       "<style scoped>\n",
       "    .dataframe tbody tr th:only-of-type {\n",
       "        vertical-align: middle;\n",
       "    }\n",
       "\n",
       "    .dataframe tbody tr th {\n",
       "        vertical-align: top;\n",
       "    }\n",
       "\n",
       "    .dataframe thead th {\n",
       "        text-align: right;\n",
       "    }\n",
       "</style>\n",
       "<table border=\"1\" class=\"dataframe\">\n",
       "  <thead>\n",
       "    <tr style=\"text-align: right;\">\n",
       "      <th></th>\n",
       "      <th>% Labelled Data</th>\n",
       "      <th>ROC-AUC (mean ± std)</th>\n",
       "      <th>PR-AUC (mean ± std)</th>\n",
       "      <th>min(Re,Pr) (mean ± std)</th>\n",
       "    </tr>\n",
       "  </thead>\n",
       "  <tbody>\n",
       "    <tr>\n",
       "      <th>0</th>\n",
       "      <td>10</td>\n",
       "      <td>0.870 ± 0.002</td>\n",
       "      <td>0.511 ± 0.009</td>\n",
       "      <td>0.499 ± 0.019</td>\n",
       "    </tr>\n",
       "    <tr>\n",
       "      <th>1</th>\n",
       "      <td>20</td>\n",
       "      <td>0.882 ± 0.001</td>\n",
       "      <td>0.553 ± 0.004</td>\n",
       "      <td>0.528 ± 0.010</td>\n",
       "    </tr>\n",
       "    <tr>\n",
       "      <th>2</th>\n",
       "      <td>30</td>\n",
       "      <td>0.888 ± 0.001</td>\n",
       "      <td>0.569 ± 0.005</td>\n",
       "      <td>0.537 ± 0.003</td>\n",
       "    </tr>\n",
       "    <tr>\n",
       "      <th>3</th>\n",
       "      <td>40</td>\n",
       "      <td>0.885 ± 0.002</td>\n",
       "      <td>0.566 ± 0.004</td>\n",
       "      <td>0.536 ± 0.005</td>\n",
       "    </tr>\n",
       "    <tr>\n",
       "      <th>4</th>\n",
       "      <td>50</td>\n",
       "      <td>0.891 ± 0.001</td>\n",
       "      <td>0.578 ± 0.001</td>\n",
       "      <td>0.540 ± 0.004</td>\n",
       "    </tr>\n",
       "  </tbody>\n",
       "</table>\n",
       "</div>"
      ],
      "text/plain": [
       "   % Labelled Data ROC-AUC (mean ± std) PR-AUC (mean ± std)  \\\n",
       "0               10        0.870 ± 0.002       0.511 ± 0.009   \n",
       "1               20        0.882 ± 0.001       0.553 ± 0.004   \n",
       "2               30        0.888 ± 0.001       0.569 ± 0.005   \n",
       "3               40        0.885 ± 0.002       0.566 ± 0.004   \n",
       "4               50        0.891 ± 0.001       0.578 ± 0.001   \n",
       "\n",
       "  min(Re,Pr) (mean ± std)  \n",
       "0           0.499 ± 0.019  \n",
       "1           0.528 ± 0.010  \n",
       "2           0.537 ± 0.003  \n",
       "3           0.536 ± 0.005  \n",
       "4           0.540 ± 0.004  "
      ]
     },
     "execution_count": 3,
     "metadata": {},
     "output_type": "execute_result"
    }
   ],
   "source": [
    "file_path='./MIMIC/EMIT_MIMIC_PT_lr_0.0005_err_coef_8_mask_threshold_0.001_insig_prob_0.4_FT_batchsize32_dropout0.4_lr5e-05_weight_decay0.0001.pkl'\n",
    "\n",
    "with open(file_path, 'rb') as f:\n",
    "    results_dict = pickle.load(f)\n",
    "\n",
    "df_mimic_results = pd.DataFrame({\n",
    "    '% Labelled Data': results_dict.keys(),\n",
    "    'ROC-AUC (mean ± std)': [f\"{mean:.3f} ± {std:.3f}\" for mean, std in [v[0] for v in results_dict.values()]],\n",
    "    'PR-AUC (mean ± std)': [f\"{mean:.3f} ± {std:.3f}\" for mean, std in [v[1] for v in results_dict.values()]],\n",
    "    'min(Re,Pr) (mean ± std)': [f\"{mean:.3f} ± {std:.3f}\" for mean, std in [v[2] for v in results_dict.values()]]\n",
    "})\n",
    "\n",
    "df_mimic_results\n"
   ]
  },
  {
   "cell_type": "code",
   "execution_count": null,
   "metadata": {},
   "outputs": [],
   "source": []
  }
 ],
 "metadata": {
  "kernelspec": {
   "display_name": "env1",
   "language": "python",
   "name": "python3"
  },
  "language_info": {
   "codemirror_mode": {
    "name": "ipython",
    "version": 3
   },
   "file_extension": ".py",
   "mimetype": "text/x-python",
   "name": "python",
   "nbconvert_exporter": "python",
   "pygments_lexer": "ipython3",
   "version": "3.10.6"
  }
 },
 "nbformat": 4,
 "nbformat_minor": 2
}
