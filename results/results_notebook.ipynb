{
 "cells": [
  {
   "cell_type": "code",
   "execution_count": 1,
   "metadata": {},
   "outputs": [],
   "source": [
    "import pickle\n",
    "import pandas as pd"
   ]
  },
  {
   "cell_type": "markdown",
   "metadata": {},
   "source": [
    "## Physionet 2012"
   ]
  },
  {
   "cell_type": "code",
   "execution_count": 7,
   "metadata": {},
   "outputs": [
    {
     "name": "stdout",
     "output_type": "stream",
     "text": [
      "{10: [(0.8003318091119846, 0.0008826048981295798), (0.40906811613832855, 0.025239486168328218), (0.4287901327981225, 0.004602407166353545)], 20: [(0.8205058974888619, 0.003638943034105724), (0.459566639329799, 0.0015710580079535685), (0.4568925504757484, 0.01084938500812252)], 30: [(0.8124741142757081, 0.013362014278958723), (0.4534704238158114, 0.03435962585495289), (0.4573334151350374, 0.012091045296617309)], 40: [(0.8346456630991987, 0.0005035592543233824), (0.4844521623422845, 0.005014092458645009), (0.47386567280471653, 0.004551593382333852)], 50: [(0.8455757299643183, 0.0018665245551325316), (0.5057508162669362, 0.014886524670250229), (0.4864620938628159, 0.00992779783393502)]}\n"
     ]
    },
    {
     "data": {
      "text/html": [
       "<div>\n",
       "<style scoped>\n",
       "    .dataframe tbody tr th:only-of-type {\n",
       "        vertical-align: middle;\n",
       "    }\n",
       "\n",
       "    .dataframe tbody tr th {\n",
       "        vertical-align: top;\n",
       "    }\n",
       "\n",
       "    .dataframe thead th {\n",
       "        text-align: right;\n",
       "    }\n",
       "</style>\n",
       "<table border=\"1\" class=\"dataframe\">\n",
       "  <thead>\n",
       "    <tr style=\"text-align: right;\">\n",
       "      <th></th>\n",
       "      <th>% Labelled Data</th>\n",
       "      <th>ROC-AUC (mean ± std)</th>\n",
       "      <th>PR-AUC (mean ± std)</th>\n",
       "      <th>min(Re,Pr) (mean ± std)</th>\n",
       "    </tr>\n",
       "  </thead>\n",
       "  <tbody>\n",
       "    <tr>\n",
       "      <th>0</th>\n",
       "      <td>10</td>\n",
       "      <td>0.800 ± 0.001</td>\n",
       "      <td>0.409 ± 0.025</td>\n",
       "      <td>0.429 ± 0.005</td>\n",
       "    </tr>\n",
       "    <tr>\n",
       "      <th>1</th>\n",
       "      <td>20</td>\n",
       "      <td>0.821 ± 0.004</td>\n",
       "      <td>0.460 ± 0.002</td>\n",
       "      <td>0.457 ± 0.011</td>\n",
       "    </tr>\n",
       "    <tr>\n",
       "      <th>2</th>\n",
       "      <td>30</td>\n",
       "      <td>0.812 ± 0.013</td>\n",
       "      <td>0.453 ± 0.034</td>\n",
       "      <td>0.457 ± 0.012</td>\n",
       "    </tr>\n",
       "    <tr>\n",
       "      <th>3</th>\n",
       "      <td>40</td>\n",
       "      <td>0.835 ± 0.001</td>\n",
       "      <td>0.484 ± 0.005</td>\n",
       "      <td>0.474 ± 0.005</td>\n",
       "    </tr>\n",
       "    <tr>\n",
       "      <th>4</th>\n",
       "      <td>50</td>\n",
       "      <td>0.846 ± 0.002</td>\n",
       "      <td>0.506 ± 0.015</td>\n",
       "      <td>0.486 ± 0.010</td>\n",
       "    </tr>\n",
       "  </tbody>\n",
       "</table>\n",
       "</div>"
      ],
      "text/plain": [
       "   % Labelled Data ROC-AUC (mean ± std) PR-AUC (mean ± std)  \\\n",
       "0               10        0.800 ± 0.001       0.409 ± 0.025   \n",
       "1               20        0.821 ± 0.004       0.460 ± 0.002   \n",
       "2               30        0.812 ± 0.013       0.453 ± 0.034   \n",
       "3               40        0.835 ± 0.001       0.484 ± 0.005   \n",
       "4               50        0.846 ± 0.002       0.506 ± 0.015   \n",
       "\n",
       "  min(Re,Pr) (mean ± std)  \n",
       "0           0.429 ± 0.005  \n",
       "1           0.457 ± 0.011  \n",
       "2           0.457 ± 0.012  \n",
       "3           0.474 ± 0.005  \n",
       "4           0.486 ± 0.010  "
      ]
     },
     "execution_count": 7,
     "metadata": {},
     "output_type": "execute_result"
    }
   ],
   "source": [
    "file_path='./PHYSIONET/EMIT_PHYSIONET_PT_lr_0.0005_err_coef_3_mask_threshold_0.01_insig_prob_0.7_FT_batchsize32_dropout0.4_lr5e-05_weight_decay0.0001.pkl'\n",
    "\n",
    "\n",
    "with open(file_path, 'rb') as f:\n",
    "    results_dict = pickle.load(f)\n",
    "\n",
    "df_physionet_results = pd.DataFrame({\n",
    "    '% Labelled Data': results_dict.keys(),\n",
    "    'ROC-AUC (mean ± std)': [f\"{mean:.3f} ± {std:.3f}\" for mean, std in [v[0] for v in results_dict.values()]],\n",
    "    'PR-AUC (mean ± std)': [f\"{mean:.3f} ± {std:.3f}\" for mean, std in [v[1] for v in results_dict.values()]],\n",
    "    'min(Re,Pr) (mean ± std)': [f\"{mean:.3f} ± {std:.3f}\" for mean, std in [v[2] for v in results_dict.values()]]\n",
    "})\n",
    "\n",
    "df_physionet_results\n"
   ]
  },
  {
   "cell_type": "code",
   "execution_count": null,
   "metadata": {},
   "outputs": [],
   "source": []
  },
  {
   "cell_type": "markdown",
   "metadata": {},
   "source": [
    "## MIMIC III"
   ]
  },
  {
   "cell_type": "code",
   "execution_count": 5,
   "metadata": {},
   "outputs": [
    {
     "name": "stdout",
     "output_type": "stream",
     "text": [
      "{10: [(0.8700802194397523, 0.0018218995868001797), (0.5105283092771054, 0.009388558940313041), (0.49927873345594864, 0.019239785062569847)], 20: [(0.8819032337026411, 0.0005545451476089425), (0.5530577209321866, 0.004243523587721509), (0.5275253344873598, 0.009511702549677259)], 30: [(0.888229082569445, 0.0009909817987546199), (0.5690533793772672, 0.004830140462254884), (0.537037037037037, 0.0029239766081871625)], 40: [(0.8854843478623542, 0.002188575885857247), (0.5662720152739886, 0.003585538780418396), (0.5360225574745336, 0.004833473653870934)], 50: [(0.891016610659779, 0.0009715246187013693), (0.5783581912787599, 0.0008767805231995052), (0.5395379912762447, 0.004066659886545976)]}\n"
     ]
    },
    {
     "data": {
      "text/html": [
       "<div>\n",
       "<style scoped>\n",
       "    .dataframe tbody tr th:only-of-type {\n",
       "        vertical-align: middle;\n",
       "    }\n",
       "\n",
       "    .dataframe tbody tr th {\n",
       "        vertical-align: top;\n",
       "    }\n",
       "\n",
       "    .dataframe thead th {\n",
       "        text-align: right;\n",
       "    }\n",
       "</style>\n",
       "<table border=\"1\" class=\"dataframe\">\n",
       "  <thead>\n",
       "    <tr style=\"text-align: right;\">\n",
       "      <th></th>\n",
       "      <th>% Labelled Data</th>\n",
       "      <th>ROC-AUC (mean ± std)</th>\n",
       "      <th>PR-AUC (mean ± std)</th>\n",
       "      <th>min(Re,Pr) (mean ± std)</th>\n",
       "    </tr>\n",
       "  </thead>\n",
       "  <tbody>\n",
       "    <tr>\n",
       "      <th>0</th>\n",
       "      <td>10</td>\n",
       "      <td>0.870 ± 0.002</td>\n",
       "      <td>0.511 ± 0.009</td>\n",
       "      <td>0.499 ± 0.019</td>\n",
       "    </tr>\n",
       "    <tr>\n",
       "      <th>1</th>\n",
       "      <td>20</td>\n",
       "      <td>0.882 ± 0.001</td>\n",
       "      <td>0.553 ± 0.004</td>\n",
       "      <td>0.528 ± 0.010</td>\n",
       "    </tr>\n",
       "    <tr>\n",
       "      <th>2</th>\n",
       "      <td>30</td>\n",
       "      <td>0.888 ± 0.001</td>\n",
       "      <td>0.569 ± 0.005</td>\n",
       "      <td>0.537 ± 0.003</td>\n",
       "    </tr>\n",
       "    <tr>\n",
       "      <th>3</th>\n",
       "      <td>40</td>\n",
       "      <td>0.885 ± 0.002</td>\n",
       "      <td>0.566 ± 0.004</td>\n",
       "      <td>0.536 ± 0.005</td>\n",
       "    </tr>\n",
       "    <tr>\n",
       "      <th>4</th>\n",
       "      <td>50</td>\n",
       "      <td>0.891 ± 0.001</td>\n",
       "      <td>0.578 ± 0.001</td>\n",
       "      <td>0.540 ± 0.004</td>\n",
       "    </tr>\n",
       "  </tbody>\n",
       "</table>\n",
       "</div>"
      ],
      "text/plain": [
       "   % Labelled Data ROC-AUC (mean ± std) PR-AUC (mean ± std)  \\\n",
       "0               10        0.870 ± 0.002       0.511 ± 0.009   \n",
       "1               20        0.882 ± 0.001       0.553 ± 0.004   \n",
       "2               30        0.888 ± 0.001       0.569 ± 0.005   \n",
       "3               40        0.885 ± 0.002       0.566 ± 0.004   \n",
       "4               50        0.891 ± 0.001       0.578 ± 0.001   \n",
       "\n",
       "  min(Re,Pr) (mean ± std)  \n",
       "0           0.499 ± 0.019  \n",
       "1           0.528 ± 0.010  \n",
       "2           0.537 ± 0.003  \n",
       "3           0.536 ± 0.005  \n",
       "4           0.540 ± 0.004  "
      ]
     },
     "execution_count": 5,
     "metadata": {},
     "output_type": "execute_result"
    }
   ],
   "source": [
    "file_path='./MIMIC/EMIT_MIMIC_PT_lr_0.0005_err_coef_8_mask_threshold_0.001_insig_prob_0.4_FT_batchsize32_dropout0.4_lr5e-05_weight_decay0.0001.pkl'\n",
    "\n",
    "with open(file_path, 'rb') as f:\n",
    "    results_dict = pickle.load(f)\n",
    "\n",
    "df_mimic_results = pd.DataFrame({\n",
    "    '% Labelled Data': results_dict.keys(),\n",
    "    'ROC-AUC (mean ± std)': [f\"{mean:.3f} ± {std:.3f}\" for mean, std in [v[0] for v in results_dict.values()]],\n",
    "    'PR-AUC (mean ± std)': [f\"{mean:.3f} ± {std:.3f}\" for mean, std in [v[1] for v in results_dict.values()]],\n",
    "    'min(Re,Pr) (mean ± std)': [f\"{mean:.3f} ± {std:.3f}\" for mean, std in [v[2] for v in results_dict.values()]]\n",
    "})\n",
    "\n",
    "df_mimic_results\n"
   ]
  },
  {
   "cell_type": "code",
   "execution_count": null,
   "metadata": {},
   "outputs": [],
   "source": []
  }
 ],
 "metadata": {
  "kernelspec": {
   "display_name": "env1",
   "language": "python",
   "name": "python3"
  },
  "language_info": {
   "codemirror_mode": {
    "name": "ipython",
    "version": 3
   },
   "file_extension": ".py",
   "mimetype": "text/x-python",
   "name": "python",
   "nbconvert_exporter": "python",
   "pygments_lexer": "ipython3",
   "version": "3.10.6"
  }
 },
 "nbformat": 4,
 "nbformat_minor": 2
}
